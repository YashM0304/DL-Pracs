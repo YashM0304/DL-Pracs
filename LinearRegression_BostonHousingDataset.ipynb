{
  "nbformat": 4,
  "nbformat_minor": 0,
  "metadata": {
    "colab": {
      "provenance": []
    },
    "kernelspec": {
      "name": "python3",
      "display_name": "Python 3"
    },
    "language_info": {
      "name": "python"
    }
  },
  "cells": [
    {
      "cell_type": "code",
      "execution_count": null,
      "metadata": {
        "id": "goARc6fRvGiW"
      },
      "outputs": [],
      "source": [
        "import tensorflow as tf\n",
        "from tensorflow.keras.datasets import boston_housing\n",
        "from sklearn import preprocessing"
      ]
    },
    {
      "cell_type": "code",
      "source": [
        "(train_x,train_y),(test_x,test_y) = boston_housing.load_data()"
      ],
      "metadata": {
        "id": "qQLi0ndov3W7"
      },
      "execution_count": null,
      "outputs": []
    },
    {
      "cell_type": "code",
      "source": [
        "print(\"train shape :\",train_x.shape)\n",
        "print(\"Test shape :\",test_x.shape)\n",
        "print(\"Actual Train Output\",train_y.shape)\n",
        "print(\"Actual Test Output\",test_y.shape)\n"
      ],
      "metadata": {
        "colab": {
          "base_uri": "https://localhost:8080/"
        },
        "id": "nAPCxCXQwXTw",
        "outputId": "5b702f39-b866-4d2e-8ac2-19acb82cebf8"
      },
      "execution_count": null,
      "outputs": [
        {
          "output_type": "stream",
          "name": "stdout",
          "text": [
            "train shape : (404, 13)\n",
            "Test shape : (102, 13)\n",
            "Actual Train Output (404,)\n",
            "Actual Test Output (102,)\n"
          ]
        }
      ]
    },
    {
      "cell_type": "code",
      "source": [
        "train_x"
      ],
      "metadata": {
        "colab": {
          "base_uri": "https://localhost:8080/"
        },
        "id": "hLHv9T6CAAim",
        "outputId": "03483968-f54e-4f19-a636-4d136dc02811"
      },
      "execution_count": null,
      "outputs": [
        {
          "output_type": "execute_result",
          "data": {
            "text/plain": [
              "array([[1.23247e+00, 0.00000e+00, 8.14000e+00, ..., 2.10000e+01,\n",
              "        3.96900e+02, 1.87200e+01],\n",
              "       [2.17700e-02, 8.25000e+01, 2.03000e+00, ..., 1.47000e+01,\n",
              "        3.95380e+02, 3.11000e+00],\n",
              "       [4.89822e+00, 0.00000e+00, 1.81000e+01, ..., 2.02000e+01,\n",
              "        3.75520e+02, 3.26000e+00],\n",
              "       ...,\n",
              "       [3.46600e-02, 3.50000e+01, 6.06000e+00, ..., 1.69000e+01,\n",
              "        3.62250e+02, 7.83000e+00],\n",
              "       [2.14918e+00, 0.00000e+00, 1.95800e+01, ..., 1.47000e+01,\n",
              "        2.61950e+02, 1.57900e+01],\n",
              "       [1.43900e-02, 6.00000e+01, 2.93000e+00, ..., 1.56000e+01,\n",
              "        3.76700e+02, 4.38000e+00]])"
            ]
          },
          "metadata": {},
          "execution_count": 85
        }
      ]
    },
    {
      "cell_type": "code",
      "source": [
        "train_x[0]"
      ],
      "metadata": {
        "colab": {
          "base_uri": "https://localhost:8080/"
        },
        "id": "QUtkhc3JxT_M",
        "outputId": "902380b7-9a29-491b-b518-15ee0c5af3e7"
      },
      "execution_count": null,
      "outputs": [
        {
          "output_type": "execute_result",
          "data": {
            "text/plain": [
              "array([  1.23247,   0.     ,   8.14   ,   0.     ,   0.538  ,   6.142  ,\n",
              "        91.7    ,   3.9769 ,   4.     , 307.     ,  21.     , 396.9    ,\n",
              "        18.72   ])"
            ]
          },
          "metadata": {},
          "execution_count": 86
        }
      ]
    },
    {
      "cell_type": "code",
      "source": [
        "test_x[0]"
      ],
      "metadata": {
        "colab": {
          "base_uri": "https://localhost:8080/"
        },
        "id": "RrFn2vUuwSoV",
        "outputId": "1bc2b355-2fa5-4fd4-8082-4429434fdaa2"
      },
      "execution_count": null,
      "outputs": [
        {
          "output_type": "execute_result",
          "data": {
            "text/plain": [
              "array([ 18.0846,   0.    ,  18.1   ,   0.    ,   0.679 ,   6.434 ,\n",
              "       100.    ,   1.8347,  24.    , 666.    ,  20.2   ,  27.25  ,\n",
              "        29.05  ])"
            ]
          },
          "metadata": {},
          "execution_count": 87
        }
      ]
    },
    {
      "cell_type": "code",
      "source": [
        "train_y[0]"
      ],
      "metadata": {
        "colab": {
          "base_uri": "https://localhost:8080/"
        },
        "id": "9h8JIgIUxeaa",
        "outputId": "cae4dbbb-36ef-47fc-ef32-a0d13e776ae3"
      },
      "execution_count": null,
      "outputs": [
        {
          "output_type": "execute_result",
          "data": {
            "text/plain": [
              "15.2"
            ]
          },
          "metadata": {},
          "execution_count": 88
        }
      ]
    },
    {
      "cell_type": "code",
      "source": [
        "train_x=preprocessing.normalize(train_x)\n",
        "test_x=preprocessing.normalize(test_x)"
      ],
      "metadata": {
        "id": "voBQHkyHyGqW"
      },
      "execution_count": null,
      "outputs": []
    },
    {
      "cell_type": "code",
      "source": [
        "train_x[0]"
      ],
      "metadata": {
        "colab": {
          "base_uri": "https://localhost:8080/"
        },
        "id": "LFahLkcTyYik",
        "outputId": "e6ff83a8-82f6-4777-baf7-732b001dda1f"
      },
      "execution_count": null,
      "outputs": [
        {
          "output_type": "execute_result",
          "data": {
            "text/plain": [
              "array([0.0024119 , 0.        , 0.01592969, 0.        , 0.00105285,\n",
              "       0.01201967, 0.17945359, 0.00778265, 0.00782786, 0.6007879 ,\n",
              "       0.04109624, 0.77671895, 0.03663436])"
            ]
          },
          "metadata": {},
          "execution_count": 90
        }
      ]
    },
    {
      "cell_type": "code",
      "source": [
        "train_y[0]"
      ],
      "metadata": {
        "colab": {
          "base_uri": "https://localhost:8080/"
        },
        "id": "k2lYINxyyd_g",
        "outputId": "2bbb97ca-e8ed-4a07-c3f3-051a154bb61b"
      },
      "execution_count": null,
      "outputs": [
        {
          "output_type": "execute_result",
          "data": {
            "text/plain": [
              "15.2"
            ]
          },
          "metadata": {},
          "execution_count": 96
        }
      ]
    },
    {
      "cell_type": "code",
      "source": [
        "from tensorflow.keras.models import Sequential\n",
        "from tensorflow.keras.layers import *\n",
        "def HousePricePredictionModel():\n",
        "  model=Sequential()\n",
        "  model.add(Dense(128,activation='relu',input_shape=(train_x[0].shape)))\n",
        "  model.add(Dense(64,activation='relu'))\n",
        "  model.add(Dense(32,activation='relu'))\n",
        "  model.add(Dense(1))\n",
        "  model.compile(optimizer='rmsprop',loss='mse',metrics=['mae'])\n",
        "  return model\n"
      ],
      "metadata": {
        "id": "UQ1psx6EylPu"
      },
      "execution_count": null,
      "outputs": []
    },
    {
      "cell_type": "code",
      "source": [
        "import numpy as np\n",
        "k=4\n",
        "num_val_samples= len(train_x)\n",
        "num_epochs = 100\n",
        "all_scores = []"
      ],
      "metadata": {
        "id": "ZDpn2YmK1ZDm"
      },
      "execution_count": null,
      "outputs": []
    },
    {
      "cell_type": "code",
      "source": [
        "model = HousePricePredictionModel()\n",
        "history=model.fit(x=train_x,y=train_y,epochs= num_epochs,batch_size=1,verbose=1,validation_data=(test_x,test_y))"
      ],
      "metadata": {
        "colab": {
          "base_uri": "https://localhost:8080/"
        },
        "id": "_Dgpz-Th2Tps",
        "outputId": "b203d25f-13b0-4b07-dbf8-f6f4c2469c76"
      },
      "execution_count": null,
      "outputs": [
        {
          "output_type": "stream",
          "name": "stdout",
          "text": [
            "Epoch 1/100\n",
            "404/404 [==============================] - 3s 4ms/step - loss: 132.5623 - mae: 8.2955 - val_loss: 70.3824 - val_mae: 6.0714\n",
            "Epoch 2/100\n",
            "404/404 [==============================] - 1s 3ms/step - loss: 69.3444 - mae: 5.8042 - val_loss: 59.1298 - val_mae: 5.6943\n",
            "Epoch 3/100\n",
            "404/404 [==============================] - 1s 2ms/step - loss: 62.4168 - mae: 5.4305 - val_loss: 56.1526 - val_mae: 5.5338\n",
            "Epoch 4/100\n",
            "404/404 [==============================] - 1s 2ms/step - loss: 60.3918 - mae: 5.3467 - val_loss: 54.5281 - val_mae: 5.5162\n",
            "Epoch 5/100\n",
            "404/404 [==============================] - 1s 2ms/step - loss: 59.6237 - mae: 5.2669 - val_loss: 57.3897 - val_mae: 5.4031\n",
            "Epoch 6/100\n",
            "404/404 [==============================] - 1s 2ms/step - loss: 57.4460 - mae: 5.1686 - val_loss: 55.8456 - val_mae: 5.7118\n",
            "Epoch 7/100\n",
            "404/404 [==============================] - 1s 2ms/step - loss: 55.6990 - mae: 5.0963 - val_loss: 50.9223 - val_mae: 5.2472\n",
            "Epoch 8/100\n",
            "404/404 [==============================] - 1s 2ms/step - loss: 54.2109 - mae: 4.9419 - val_loss: 50.3201 - val_mae: 5.1079\n",
            "Epoch 9/100\n",
            "404/404 [==============================] - 1s 2ms/step - loss: 53.6415 - mae: 4.8628 - val_loss: 51.7781 - val_mae: 5.0734\n",
            "Epoch 10/100\n",
            "404/404 [==============================] - 1s 2ms/step - loss: 50.0518 - mae: 4.7910 - val_loss: 48.8963 - val_mae: 5.2332\n",
            "Epoch 11/100\n",
            "404/404 [==============================] - 1s 2ms/step - loss: 49.3403 - mae: 4.7905 - val_loss: 46.4557 - val_mae: 4.8064\n",
            "Epoch 12/100\n",
            "404/404 [==============================] - 1s 2ms/step - loss: 46.3185 - mae: 4.5907 - val_loss: 47.9997 - val_mae: 5.2900\n",
            "Epoch 13/100\n",
            "404/404 [==============================] - 1s 3ms/step - loss: 45.9454 - mae: 4.5040 - val_loss: 53.5410 - val_mae: 5.0819\n",
            "Epoch 14/100\n",
            "404/404 [==============================] - 1s 3ms/step - loss: 45.1506 - mae: 4.5538 - val_loss: 42.5314 - val_mae: 4.8791\n",
            "Epoch 15/100\n",
            "404/404 [==============================] - 1s 3ms/step - loss: 42.8775 - mae: 4.4156 - val_loss: 39.1896 - val_mae: 4.5027\n",
            "Epoch 16/100\n",
            "404/404 [==============================] - 1s 2ms/step - loss: 40.9033 - mae: 4.4012 - val_loss: 39.9266 - val_mae: 4.7341\n",
            "Epoch 17/100\n",
            "404/404 [==============================] - 1s 2ms/step - loss: 39.3495 - mae: 4.3365 - val_loss: 37.4306 - val_mae: 4.5990\n",
            "Epoch 18/100\n",
            "404/404 [==============================] - 1s 2ms/step - loss: 38.7595 - mae: 4.2329 - val_loss: 42.0103 - val_mae: 4.4410\n",
            "Epoch 19/100\n",
            "404/404 [==============================] - 1s 2ms/step - loss: 38.0853 - mae: 4.2840 - val_loss: 35.6234 - val_mae: 4.0979\n",
            "Epoch 20/100\n",
            "404/404 [==============================] - 1s 2ms/step - loss: 36.6169 - mae: 4.2150 - val_loss: 31.1943 - val_mae: 3.9439\n",
            "Epoch 21/100\n",
            "404/404 [==============================] - 1s 2ms/step - loss: 35.0951 - mae: 4.1683 - val_loss: 40.2675 - val_mae: 4.3484\n",
            "Epoch 22/100\n",
            "404/404 [==============================] - 1s 2ms/step - loss: 34.8492 - mae: 4.1293 - val_loss: 36.6604 - val_mae: 4.1463\n",
            "Epoch 23/100\n",
            "404/404 [==============================] - 1s 2ms/step - loss: 32.7001 - mae: 3.9624 - val_loss: 38.6714 - val_mae: 4.2649\n",
            "Epoch 24/100\n",
            "404/404 [==============================] - 1s 2ms/step - loss: 33.3848 - mae: 4.0030 - val_loss: 36.5621 - val_mae: 4.9428\n",
            "Epoch 25/100\n",
            "404/404 [==============================] - 1s 2ms/step - loss: 32.4074 - mae: 3.9047 - val_loss: 29.5440 - val_mae: 3.8235\n",
            "Epoch 26/100\n",
            "404/404 [==============================] - 1s 3ms/step - loss: 31.9673 - mae: 3.9697 - val_loss: 27.7313 - val_mae: 3.7105\n",
            "Epoch 27/100\n",
            "404/404 [==============================] - 1s 3ms/step - loss: 31.3073 - mae: 3.8939 - val_loss: 27.5437 - val_mae: 3.9102\n",
            "Epoch 28/100\n",
            "404/404 [==============================] - 1s 3ms/step - loss: 30.8373 - mae: 3.9598 - val_loss: 27.2029 - val_mae: 3.6522\n",
            "Epoch 29/100\n",
            "404/404 [==============================] - 1s 2ms/step - loss: 29.5555 - mae: 3.8883 - val_loss: 36.0855 - val_mae: 4.1405\n",
            "Epoch 30/100\n",
            "404/404 [==============================] - 1s 2ms/step - loss: 30.5496 - mae: 3.8613 - val_loss: 28.4402 - val_mae: 3.6639\n",
            "Epoch 31/100\n",
            "404/404 [==============================] - 1s 2ms/step - loss: 28.6071 - mae: 3.8347 - val_loss: 30.8602 - val_mae: 3.8301\n",
            "Epoch 32/100\n",
            "404/404 [==============================] - 1s 2ms/step - loss: 27.7863 - mae: 3.7941 - val_loss: 25.7321 - val_mae: 3.6312\n",
            "Epoch 33/100\n",
            "404/404 [==============================] - 1s 2ms/step - loss: 28.4247 - mae: 3.8222 - val_loss: 29.2399 - val_mae: 3.7424\n",
            "Epoch 34/100\n",
            "404/404 [==============================] - 1s 2ms/step - loss: 27.2003 - mae: 3.7320 - val_loss: 29.8145 - val_mae: 4.4583\n",
            "Epoch 35/100\n",
            "404/404 [==============================] - 1s 2ms/step - loss: 26.6800 - mae: 3.6492 - val_loss: 27.8551 - val_mae: 4.1926\n",
            "Epoch 36/100\n",
            "404/404 [==============================] - 1s 2ms/step - loss: 26.1196 - mae: 3.7323 - val_loss: 26.2867 - val_mae: 3.5767\n",
            "Epoch 37/100\n",
            "404/404 [==============================] - 1s 2ms/step - loss: 25.0747 - mae: 3.7053 - val_loss: 35.7244 - val_mae: 4.1535\n",
            "Epoch 38/100\n",
            "404/404 [==============================] - 1s 2ms/step - loss: 25.8317 - mae: 3.5459 - val_loss: 29.3835 - val_mae: 3.7525\n",
            "Epoch 39/100\n",
            "404/404 [==============================] - 1s 3ms/step - loss: 24.8660 - mae: 3.6032 - val_loss: 25.8876 - val_mae: 3.6325\n",
            "Epoch 40/100\n",
            "404/404 [==============================] - 2s 4ms/step - loss: 24.1721 - mae: 3.4619 - val_loss: 28.9406 - val_mae: 3.7896\n",
            "Epoch 41/100\n",
            "404/404 [==============================] - 1s 2ms/step - loss: 23.4947 - mae: 3.4176 - val_loss: 26.6171 - val_mae: 3.5916\n",
            "Epoch 42/100\n",
            "404/404 [==============================] - 1s 2ms/step - loss: 22.7055 - mae: 3.4121 - val_loss: 30.9523 - val_mae: 4.5267\n",
            "Epoch 43/100\n",
            "404/404 [==============================] - 1s 2ms/step - loss: 22.4927 - mae: 3.3775 - val_loss: 30.4154 - val_mae: 3.8425\n",
            "Epoch 44/100\n",
            "404/404 [==============================] - 1s 2ms/step - loss: 21.6251 - mae: 3.3351 - val_loss: 31.6735 - val_mae: 4.4988\n",
            "Epoch 45/100\n",
            "404/404 [==============================] - 1s 2ms/step - loss: 22.6350 - mae: 3.3871 - val_loss: 30.7929 - val_mae: 3.9289\n",
            "Epoch 46/100\n",
            "404/404 [==============================] - 1s 2ms/step - loss: 22.1449 - mae: 3.3665 - val_loss: 30.6461 - val_mae: 3.8682\n",
            "Epoch 47/100\n",
            "404/404 [==============================] - 1s 2ms/step - loss: 21.7849 - mae: 3.3113 - val_loss: 24.2385 - val_mae: 3.5724\n",
            "Epoch 48/100\n",
            "404/404 [==============================] - 1s 2ms/step - loss: 20.8412 - mae: 3.3230 - val_loss: 36.7261 - val_mae: 4.1364\n",
            "Epoch 49/100\n",
            "404/404 [==============================] - 1s 2ms/step - loss: 21.2126 - mae: 3.3077 - val_loss: 25.6902 - val_mae: 3.6474\n",
            "Epoch 50/100\n",
            "404/404 [==============================] - 1s 2ms/step - loss: 19.4068 - mae: 3.1361 - val_loss: 36.5714 - val_mae: 4.8042\n",
            "Epoch 51/100\n",
            "404/404 [==============================] - 1s 3ms/step - loss: 20.9386 - mae: 3.1301 - val_loss: 28.8643 - val_mae: 3.7695\n",
            "Epoch 52/100\n",
            "404/404 [==============================] - 1s 4ms/step - loss: 19.7207 - mae: 3.2719 - val_loss: 28.8469 - val_mae: 3.7538\n",
            "Epoch 53/100\n",
            "404/404 [==============================] - 1s 3ms/step - loss: 18.4614 - mae: 3.0567 - val_loss: 25.8378 - val_mae: 3.5435\n",
            "Epoch 54/100\n",
            "404/404 [==============================] - 1s 2ms/step - loss: 20.0435 - mae: 3.1615 - val_loss: 35.3779 - val_mae: 4.7105\n",
            "Epoch 55/100\n",
            "404/404 [==============================] - 1s 2ms/step - loss: 20.3252 - mae: 3.1735 - val_loss: 40.6748 - val_mae: 4.5613\n",
            "Epoch 56/100\n",
            "404/404 [==============================] - 1s 2ms/step - loss: 19.5576 - mae: 3.1870 - val_loss: 28.2752 - val_mae: 3.6776\n",
            "Epoch 57/100\n",
            "404/404 [==============================] - 1s 2ms/step - loss: 19.5030 - mae: 3.1892 - val_loss: 27.0567 - val_mae: 3.5352\n",
            "Epoch 58/100\n",
            "404/404 [==============================] - 1s 2ms/step - loss: 19.4610 - mae: 3.1508 - val_loss: 28.0523 - val_mae: 3.7205\n",
            "Epoch 59/100\n",
            "404/404 [==============================] - 1s 2ms/step - loss: 18.8698 - mae: 3.1565 - val_loss: 29.3233 - val_mae: 3.8579\n",
            "Epoch 60/100\n",
            "404/404 [==============================] - 1s 2ms/step - loss: 18.2091 - mae: 3.0943 - val_loss: 31.8447 - val_mae: 3.9660\n",
            "Epoch 61/100\n",
            "404/404 [==============================] - 1s 2ms/step - loss: 18.6402 - mae: 3.1717 - val_loss: 27.7322 - val_mae: 3.7843\n",
            "Epoch 62/100\n",
            "404/404 [==============================] - 1s 2ms/step - loss: 19.2316 - mae: 3.1126 - val_loss: 28.7302 - val_mae: 3.7118\n",
            "Epoch 63/100\n",
            "404/404 [==============================] - 1s 2ms/step - loss: 19.2437 - mae: 3.0973 - val_loss: 27.9757 - val_mae: 3.6200\n",
            "Epoch 64/100\n",
            "404/404 [==============================] - 1s 3ms/step - loss: 18.4509 - mae: 3.1285 - val_loss: 30.4304 - val_mae: 3.8116\n",
            "Epoch 65/100\n",
            "404/404 [==============================] - 1s 4ms/step - loss: 18.2087 - mae: 3.0624 - val_loss: 29.8703 - val_mae: 3.9196\n",
            "Epoch 66/100\n",
            "404/404 [==============================] - 1s 3ms/step - loss: 18.3983 - mae: 3.0565 - val_loss: 34.0056 - val_mae: 4.0582\n",
            "Epoch 67/100\n",
            "404/404 [==============================] - 1s 2ms/step - loss: 16.4868 - mae: 2.9724 - val_loss: 28.1869 - val_mae: 3.6755\n",
            "Epoch 68/100\n",
            "404/404 [==============================] - 1s 2ms/step - loss: 18.6700 - mae: 3.0493 - val_loss: 29.7743 - val_mae: 3.7104\n",
            "Epoch 69/100\n",
            "404/404 [==============================] - 1s 2ms/step - loss: 17.3672 - mae: 3.0770 - val_loss: 37.9911 - val_mae: 4.2242\n",
            "Epoch 70/100\n",
            "404/404 [==============================] - 1s 2ms/step - loss: 17.4301 - mae: 3.0786 - val_loss: 36.8225 - val_mae: 4.2949\n",
            "Epoch 71/100\n",
            "404/404 [==============================] - 1s 2ms/step - loss: 18.4095 - mae: 3.0353 - val_loss: 38.0818 - val_mae: 4.8717\n",
            "Epoch 72/100\n",
            "404/404 [==============================] - 1s 2ms/step - loss: 18.1436 - mae: 3.0423 - val_loss: 26.8331 - val_mae: 3.5905\n",
            "Epoch 73/100\n",
            "404/404 [==============================] - 1s 2ms/step - loss: 17.8771 - mae: 2.9966 - val_loss: 30.4385 - val_mae: 3.7997\n",
            "Epoch 74/100\n",
            "404/404 [==============================] - 1s 2ms/step - loss: 17.0514 - mae: 2.9516 - val_loss: 29.5889 - val_mae: 3.6283\n",
            "Epoch 75/100\n",
            "404/404 [==============================] - 1s 2ms/step - loss: 16.7108 - mae: 2.9051 - val_loss: 30.8951 - val_mae: 3.7646\n",
            "Epoch 76/100\n",
            "404/404 [==============================] - 1s 2ms/step - loss: 17.9222 - mae: 2.9646 - val_loss: 28.8783 - val_mae: 3.5502\n",
            "Epoch 77/100\n",
            "404/404 [==============================] - 1s 3ms/step - loss: 16.9686 - mae: 3.0632 - val_loss: 29.2283 - val_mae: 3.7367\n",
            "Epoch 78/100\n",
            "404/404 [==============================] - 1s 3ms/step - loss: 16.9900 - mae: 3.0235 - val_loss: 34.9782 - val_mae: 4.1015\n",
            "Epoch 79/100\n",
            "404/404 [==============================] - 1s 3ms/step - loss: 17.2844 - mae: 2.9478 - val_loss: 30.5575 - val_mae: 3.7120\n",
            "Epoch 80/100\n",
            "404/404 [==============================] - 1s 2ms/step - loss: 17.0017 - mae: 3.0240 - val_loss: 30.3567 - val_mae: 3.7539\n",
            "Epoch 81/100\n",
            "404/404 [==============================] - 1s 2ms/step - loss: 17.1910 - mae: 2.9664 - val_loss: 35.1699 - val_mae: 4.1731\n",
            "Epoch 82/100\n",
            "404/404 [==============================] - 1s 2ms/step - loss: 17.1166 - mae: 2.9808 - val_loss: 34.4547 - val_mae: 3.9290\n",
            "Epoch 83/100\n",
            "404/404 [==============================] - 1s 2ms/step - loss: 16.9515 - mae: 2.9450 - val_loss: 34.7442 - val_mae: 4.1691\n",
            "Epoch 84/100\n",
            "404/404 [==============================] - 1s 2ms/step - loss: 16.4727 - mae: 2.8918 - val_loss: 34.9175 - val_mae: 4.0517\n",
            "Epoch 85/100\n",
            "404/404 [==============================] - 1s 2ms/step - loss: 16.6636 - mae: 2.8968 - val_loss: 38.1499 - val_mae: 4.4694\n",
            "Epoch 86/100\n",
            "404/404 [==============================] - 1s 2ms/step - loss: 16.8733 - mae: 2.9154 - val_loss: 26.2822 - val_mae: 3.5718\n",
            "Epoch 87/100\n",
            "404/404 [==============================] - 1s 2ms/step - loss: 16.8794 - mae: 2.9579 - val_loss: 30.0516 - val_mae: 3.7156\n",
            "Epoch 88/100\n",
            "404/404 [==============================] - 1s 2ms/step - loss: 17.1385 - mae: 2.8863 - val_loss: 30.1265 - val_mae: 3.6544\n",
            "Epoch 89/100\n",
            "404/404 [==============================] - 1s 2ms/step - loss: 17.2613 - mae: 3.0160 - val_loss: 30.4320 - val_mae: 4.1775\n",
            "Epoch 90/100\n",
            "404/404 [==============================] - 1s 2ms/step - loss: 18.3038 - mae: 3.0219 - val_loss: 35.0530 - val_mae: 4.1261\n",
            "Epoch 91/100\n",
            "404/404 [==============================] - 1s 4ms/step - loss: 17.3706 - mae: 2.9954 - val_loss: 28.6396 - val_mae: 3.6794\n",
            "Epoch 92/100\n",
            "404/404 [==============================] - 1s 3ms/step - loss: 15.8451 - mae: 2.8988 - val_loss: 33.8783 - val_mae: 3.9386\n",
            "Epoch 93/100\n",
            "404/404 [==============================] - 1s 2ms/step - loss: 16.5289 - mae: 2.8755 - val_loss: 30.7048 - val_mae: 3.7855\n",
            "Epoch 94/100\n",
            "404/404 [==============================] - 1s 2ms/step - loss: 16.7446 - mae: 2.9147 - val_loss: 29.2877 - val_mae: 3.7525\n",
            "Epoch 95/100\n",
            "404/404 [==============================] - 1s 2ms/step - loss: 15.7905 - mae: 2.7967 - val_loss: 28.6623 - val_mae: 3.5777\n",
            "Epoch 96/100\n",
            "404/404 [==============================] - 1s 2ms/step - loss: 15.6156 - mae: 2.8741 - val_loss: 39.8599 - val_mae: 4.4550\n",
            "Epoch 97/100\n",
            "404/404 [==============================] - 1s 2ms/step - loss: 16.5521 - mae: 2.9010 - val_loss: 39.1691 - val_mae: 4.2336\n",
            "Epoch 98/100\n",
            "404/404 [==============================] - 1s 2ms/step - loss: 16.9905 - mae: 2.9003 - val_loss: 29.8002 - val_mae: 3.5580\n",
            "Epoch 99/100\n",
            "404/404 [==============================] - 1s 2ms/step - loss: 14.5722 - mae: 2.7661 - val_loss: 31.8028 - val_mae: 3.7870\n",
            "Epoch 100/100\n",
            "404/404 [==============================] - 1s 2ms/step - loss: 16.5052 - mae: 2.9579 - val_loss: 35.8337 - val_mae: 4.5493\n"
          ]
        }
      ]
    },
    {
      "cell_type": "code",
      "source": [
        "## We will need to convert train and test data using pandas"
      ],
      "metadata": {
        "id": "jF8hrvc3Dp2n"
      },
      "execution_count": null,
      "outputs": []
    },
    {
      "cell_type": "code",
      "source": [
        "test = [[0.02675675, 0.        , 0.02677953, 0.        , 0.0010046 ,\n",
        "        0.00951931, 0.14795322, 0.0027145 , 0.03550877, 0.98536841,\n",
        "        0.02988655, 0.04031725, 0.04298041]]\n",
        "print(\"Actual Output: \", train_y[0])\n",
        "print(\"Predicted Output: \", model.predict(test))"
      ],
      "metadata": {
        "colab": {
          "base_uri": "https://localhost:8080/"
        },
        "id": "YzUzn1OwEK4w",
        "outputId": "2542030d-688f-4109-c413-b36561cb36ef"
      },
      "execution_count": null,
      "outputs": [
        {
          "output_type": "stream",
          "name": "stdout",
          "text": [
            "Actual Output:  15.2\n",
            "1/1 [==============================] - 0s 48ms/step\n",
            "Predicted Output:  [[11.71047]]\n"
          ]
        }
      ]
    }
  ]
}